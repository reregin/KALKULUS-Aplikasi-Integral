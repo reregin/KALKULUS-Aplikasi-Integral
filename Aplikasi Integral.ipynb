{
 "cells": [
  {
   "cell_type": "markdown",
   "id": "181d36e6",
   "metadata": {},
   "source": [
    "# Oleh:\n",
    "## Regina Maria Samantha George\n",
    "## 220211060112"
   ]
  },
  {
   "cell_type": "code",
   "execution_count": 29,
   "id": "7aa50dad",
   "metadata": {},
   "outputs": [],
   "source": [
    "import sympy as smp\n",
    "import numpy as np\n",
    "import matplotlib.pylab as pl\n",
    "import matplotlib.pyplot as plt\n",
    "from matplotlib.patches import Polygon"
   ]
  },
  {
   "cell_type": "code",
   "execution_count": 10,
   "id": "4b92f612",
   "metadata": {},
   "outputs": [],
   "source": [
    "x, y = smp.symbols('x y')"
   ]
  },
  {
   "cell_type": "markdown",
   "id": "4a7903d1",
   "metadata": {},
   "source": [
    "## Exercise 7.1"
   ]
  },
  {
   "cell_type": "markdown",
   "id": "5db3cee3",
   "metadata": {},
   "source": [
    "### 13."
   ]
  },
  {
   "cell_type": "markdown",
   "id": "b31f55dd",
   "metadata": {},
   "source": [
    "$\\int_{-2}^{1} \\, [(2-y)-y^2] \\, dy$"
   ]
  },
  {
   "cell_type": "code",
   "execution_count": 11,
   "id": "456fdef0",
   "metadata": {},
   "outputs": [
    {
     "data": {
      "text/latex": [
       "$\\displaystyle \\frac{9}{2}$"
      ],
      "text/plain": [
       "9/2"
      ]
     },
     "execution_count": 11,
     "metadata": {},
     "output_type": "execute_result"
    }
   ],
   "source": [
    "smp.integrate(\n",
    "    2-y-y**2,\n",
    "    (y,\n",
    "    -2, 1)\n",
    ")"
   ]
  },
  {
   "cell_type": "markdown",
   "id": "f94a2a53",
   "metadata": {},
   "source": [
    "<img src=\"7.1-13.png\" />"
   ]
  },
  {
   "cell_type": "markdown",
   "id": "cb041d5d",
   "metadata": {},
   "source": [
    "### 14."
   ]
  },
  {
   "cell_type": "markdown",
   "id": "2e4eab5f",
   "metadata": {},
   "source": [
    "$\\int_{0}^{4} \\, [(2 \\sqrt{y})-y] \\, dy$"
   ]
  },
  {
   "cell_type": "code",
   "execution_count": 12,
   "id": "29290486",
   "metadata": {},
   "outputs": [
    {
     "data": {
      "text/latex": [
       "$\\displaystyle \\frac{8}{3}$"
      ],
      "text/plain": [
       "8/3"
      ]
     },
     "execution_count": 12,
     "metadata": {},
     "output_type": "execute_result"
    }
   ],
   "source": [
    "smp.integrate(\n",
    "    2*smp.sqrt(y)-y,\n",
    "    (y,\n",
    "    0, 4)\n",
    ")"
   ]
  },
  {
   "cell_type": "markdown",
   "id": "c6d41e3f",
   "metadata": {},
   "source": [
    "<img src=\"7.1-14.png\" />"
   ]
  },
  {
   "cell_type": "markdown",
   "id": "73975ac9",
   "metadata": {},
   "source": [
    "## Exercise 7.2"
   ]
  },
  {
   "cell_type": "markdown",
   "id": "90aeeaab",
   "metadata": {},
   "source": [
    "### 14."
   ]
  },
  {
   "cell_type": "markdown",
   "id": "683a0062",
   "metadata": {},
   "source": [
    "$y=2x^2,\\,y=0,\\,x=2$"
   ]
  },
  {
   "cell_type": "markdown",
   "id": "a666484f",
   "metadata": {},
   "source": [
    "#### (a) the y-axis"
   ]
  },
  {
   "cell_type": "markdown",
   "id": "f9dc9b57",
   "metadata": {},
   "source": [
    "$V = \\pi \\int_{0}^{8} \\, (2)^2 - (\\sqrt \\frac y 2)^2 \\, dy$"
   ]
  },
  {
   "cell_type": "code",
   "execution_count": 13,
   "id": "d959f63a",
   "metadata": {},
   "outputs": [
    {
     "data": {
      "text/latex": [
       "$\\displaystyle 16 \\pi$"
      ],
      "text/plain": [
       "16*pi"
      ]
     },
     "execution_count": 13,
     "metadata": {},
     "output_type": "execute_result"
    }
   ],
   "source": [
    "smp.pi*smp.integrate(\n",
    "        2**2-(smp.sqrt(y/2)**2),\n",
    "        (y,\n",
    "        0, 8)\n",
    ")"
   ]
  },
  {
   "cell_type": "markdown",
   "id": "52d9654b",
   "metadata": {},
   "source": [
    "#### (b) the x-axis"
   ]
  },
  {
   "cell_type": "markdown",
   "id": "ec5ad6f4",
   "metadata": {},
   "source": [
    "$V = \\pi \\int_{0}^{2} \\, (2x^2)^2 \\, dx$"
   ]
  },
  {
   "cell_type": "code",
   "execution_count": 14,
   "id": "5a7a6c59",
   "metadata": {},
   "outputs": [
    {
     "data": {
      "text/latex": [
       "$\\displaystyle \\frac{128 \\pi}{5}$"
      ],
      "text/plain": [
       "128*pi/5"
      ]
     },
     "execution_count": 14,
     "metadata": {},
     "output_type": "execute_result"
    }
   ],
   "source": [
    "smp.pi*smp.integrate(\n",
    "        (2*x**2)**2,\n",
    "        (x,\n",
    "        0, 2)\n",
    ")"
   ]
  },
  {
   "cell_type": "markdown",
   "id": "c6c4d90c",
   "metadata": {},
   "source": [
    "#### (c) the line y = 8"
   ]
  },
  {
   "cell_type": "markdown",
   "id": "2ab384b7",
   "metadata": {},
   "source": [
    "$V = \\pi \\int_{0}^{2} \\, (8-0)^2 - (8-(2x^2))^2 \\, dx$"
   ]
  },
  {
   "cell_type": "code",
   "execution_count": 15,
   "id": "166cd16c",
   "metadata": {},
   "outputs": [
    {
     "data": {
      "text/latex": [
       "$\\displaystyle \\frac{896 \\pi}{15}$"
      ],
      "text/plain": [
       "896*pi/15"
      ]
     },
     "execution_count": 15,
     "metadata": {},
     "output_type": "execute_result"
    }
   ],
   "source": [
    "smp.pi*smp.integrate(\n",
    "        (8-0)**2 - (8-(2*x**2))**2,\n",
    "        (x,\n",
    "        0, 2)\n",
    ")"
   ]
  },
  {
   "cell_type": "markdown",
   "id": "d83a7b72",
   "metadata": {},
   "source": [
    "#### (d) the line x = 2"
   ]
  },
  {
   "cell_type": "markdown",
   "id": "283dbb55",
   "metadata": {},
   "source": [
    "$V = \\pi \\int_{0}^{8} \\, (2-\\sqrt \\frac y 2)^2 \\, dy$"
   ]
  },
  {
   "cell_type": "code",
   "execution_count": 16,
   "id": "a3bf2100",
   "metadata": {},
   "outputs": [
    {
     "data": {
      "text/latex": [
       "$\\displaystyle \\frac{16 \\pi}{3}$"
      ],
      "text/plain": [
       "16*pi/3"
      ]
     },
     "execution_count": 16,
     "metadata": {},
     "output_type": "execute_result"
    }
   ],
   "source": [
    "smp.pi*smp.integrate(\n",
    "        (2-smp.sqrt(y/2))**2,\n",
    "        (y,\n",
    "        0, 8)\n",
    ")"
   ]
  },
  {
   "cell_type": "markdown",
   "id": "5ec421c9",
   "metadata": {},
   "source": [
    "### 15."
   ]
  },
  {
   "cell_type": "markdown",
   "id": "b2019924",
   "metadata": {},
   "source": [
    "$y=x^2,\\,y=4x-x^2$"
   ]
  },
  {
   "cell_type": "markdown",
   "id": "51ee4c21",
   "metadata": {},
   "source": [
    "#### (a) x-axis"
   ]
  },
  {
   "cell_type": "markdown",
   "id": "4115e1a5",
   "metadata": {},
   "source": [
    "$V = \\pi \\int_{0}^{2} \\, (4x-x^2)^2 - (x^2)^2 \\, dx$"
   ]
  },
  {
   "cell_type": "code",
   "execution_count": 17,
   "id": "f16612a9",
   "metadata": {},
   "outputs": [
    {
     "data": {
      "text/latex": [
       "$\\displaystyle \\frac{32 \\pi}{3}$"
      ],
      "text/plain": [
       "32*pi/3"
      ]
     },
     "execution_count": 17,
     "metadata": {},
     "output_type": "execute_result"
    }
   ],
   "source": [
    "smp.pi*smp.integrate(\n",
    "        (4*x-x**2)**2 - (x**2)**2,\n",
    "        (x,\n",
    "        0, 2)\n",
    ")"
   ]
  },
  {
   "cell_type": "markdown",
   "id": "bd560a9d",
   "metadata": {},
   "source": [
    "#### (b) line y = 6"
   ]
  },
  {
   "cell_type": "markdown",
   "id": "4afcac94",
   "metadata": {},
   "source": [
    "$V = \\pi \\int_{0}^{2} \\, (6-x^2)^2 - (6-(4x-x^2))^2 \\, dx$"
   ]
  },
  {
   "cell_type": "code",
   "execution_count": 18,
   "id": "48e68b20",
   "metadata": {},
   "outputs": [
    {
     "data": {
      "text/latex": [
       "$\\displaystyle \\frac{64 \\pi}{3}$"
      ],
      "text/plain": [
       "64*pi/3"
      ]
     },
     "execution_count": 18,
     "metadata": {},
     "output_type": "execute_result"
    }
   ],
   "source": [
    "smp.pi*smp.integrate(\n",
    "        (6-x**2)**2 - (6-(4*x-x**2))**2,\n",
    "        (x,\n",
    "        0, 2)\n",
    ")"
   ]
  },
  {
   "cell_type": "markdown",
   "id": "d58cefff",
   "metadata": {},
   "source": [
    "## Exercise 7.3"
   ]
  },
  {
   "cell_type": "markdown",
   "id": "1e963435",
   "metadata": {},
   "source": [
    "### 25."
   ]
  },
  {
   "cell_type": "markdown",
   "id": "12f4c3ca",
   "metadata": {},
   "source": [
    "$y=3x-x^2, \\, y=x^2$"
   ]
  },
  {
   "cell_type": "markdown",
   "id": "d837eedb",
   "metadata": {},
   "source": [
    "$V = 2\\pi \\int_{0}^{\\frac{3}{2}} \\, (2-x)(3x-x^2-x^2) \\, dx$"
   ]
  },
  {
   "cell_type": "code",
   "execution_count": 22,
   "id": "b5559b2c",
   "metadata": {},
   "outputs": [
    {
     "data": {
      "text/latex": [
       "$\\displaystyle \\frac{45 \\pi}{16}$"
      ],
      "text/plain": [
       "45*pi/16"
      ]
     },
     "execution_count": 22,
     "metadata": {},
     "output_type": "execute_result"
    }
   ],
   "source": [
    "2*smp.pi*smp.integrate(\n",
    "        (2-x)*(3*x-x**2-x**2),\n",
    "        (x,\n",
    "        0, smp.Rational(3,2))\n",
    ")"
   ]
  }
 ],
 "metadata": {
  "kernelspec": {
   "display_name": "Python 3 (ipykernel)",
   "language": "python",
   "name": "python3"
  },
  "language_info": {
   "codemirror_mode": {
    "name": "ipython",
    "version": 3
   },
   "file_extension": ".py",
   "mimetype": "text/x-python",
   "name": "python",
   "nbconvert_exporter": "python",
   "pygments_lexer": "ipython3",
   "version": "3.9.13"
  }
 },
 "nbformat": 4,
 "nbformat_minor": 5
}
